{
 "cells": [
  {
   "cell_type": "markdown",
   "metadata": {},
   "source": [
    "# Animals-10 Dataset\n",
    "Download the raw data from: https://www.kaggle.com/datasets/alessiocorrado99/animals10?resource=download \\\n",
    "Then use function below to convert .pt for faster process"
   ]
  },
  {
   "cell_type": "code",
   "execution_count": 1,
   "metadata": {},
   "outputs": [],
   "source": [
    "import torch\n",
    "import torch.nn as nn\n",
    "import torch.optim as optim\n",
    "import torchvision.transforms as transforms\n",
    "import torchvision.datasets as datasets\n",
    "from torch.utils.data import DataLoader, TensorDataset\n",
    "from torchvision.models import vit_b_16\n",
    "import os\n",
    "from sklearn.model_selection import train_test_split\n",
    "from PIL import Image\n",
    "import numpy as np"
   ]
  },
  {
   "cell_type": "code",
   "execution_count": 2,
   "metadata": {},
   "outputs": [
    {
     "name": "stdout",
     "output_type": "stream",
     "text": [
      "Processing dataset and saving to Torch tensor format...\n",
      "Dataset saved in Torch tensor format.\n"
     ]
    }
   ],
   "source": [
    "# Define dataset paths\n",
    "data_dir = \"./animals10\"\n",
    "torch_dataset_path = \"./animals10Dataset.pt\"\n",
    "\n",
    "# Define class names\n",
    "class_names = [\"cane\", \"cavallo\", \"elefante\", \"farfalla\", \"gallina\", \"gatto\", \"mucca\", \"pecora\", \"ragno\", \"scoiattolo\"]\n",
    "class_to_idx = {class_name: idx for idx, class_name in enumerate(class_names)}\n",
    "\n",
    "# Define transforms for data preprocessing\n",
    "transform = transforms.Compose([\n",
    "    transforms.Resize((224, 224)),\n",
    "    transforms.ToTensor(),\n",
    "    transforms.Normalize([0.5, 0.5, 0.5], [0.5, 0.5, 0.5])\n",
    "])\n",
    "\n",
    "# Process and store images in Torch tensor format\n",
    "if not os.path.exists(torch_dataset_path):\n",
    "    print(\"Processing dataset and saving to Torch tensor format...\")\n",
    "    images, labels = [], []\n",
    "    \n",
    "    for class_name in class_names:\n",
    "        class_path = os.path.join(data_dir, class_name)\n",
    "        if os.path.isdir(class_path):\n",
    "            for img_name in os.listdir(class_path):\n",
    "                if img_name.lower().endswith(('png', 'jpg', 'jpeg')):\n",
    "                    img_path = os.path.join(class_path, img_name)\n",
    "                    image = Image.open(img_path).convert(\"RGB\")\n",
    "                    image = transform(image)\n",
    "                    images.append(image)\n",
    "                    labels.append(class_to_idx[class_name])\n",
    "    \n",
    "    images = torch.stack(images)\n",
    "    labels = torch.tensor(labels, dtype=torch.long)\n",
    "    \n",
    "    # Save to Torch tensor format\n",
    "    torch.save({\"images\": images, \"labels\": labels}, torch_dataset_path)\n",
    "    print(\"Dataset saved in Torch tensor format.\")\n"
   ]
  }
 ],
 "metadata": {
  "kernelspec": {
   "display_name": "ece1508",
   "language": "python",
   "name": "python3"
  },
  "language_info": {
   "codemirror_mode": {
    "name": "ipython",
    "version": 3
   },
   "file_extension": ".py",
   "mimetype": "text/x-python",
   "name": "python",
   "nbconvert_exporter": "python",
   "pygments_lexer": "ipython3",
   "version": "3.10.16"
  }
 },
 "nbformat": 4,
 "nbformat_minor": 2
}
