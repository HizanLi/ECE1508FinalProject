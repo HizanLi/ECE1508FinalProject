{
 "cells": [
  {
   "cell_type": "markdown",
   "metadata": {},
   "source": [
    "# Animals-10 Dataset\n",
    "Download the raw data from: https://www.kaggle.com/datasets/alessiocorrado99/animals10?resource=download \\\n",
    "Then use function below to convert .pt for faster process"
   ]
  },
  {
   "cell_type": "code",
   "execution_count": 1,
   "metadata": {},
   "outputs": [],
   "source": [
    "import torch\n",
    "import torch.nn as nn\n",
    "import torch.optim as optim\n",
    "import torchvision.transforms as transforms\n",
    "import torchvision.datasets as datasets\n",
    "from torch.utils.data import DataLoader, TensorDataset\n",
    "from torchvision.models import vit_b_16\n",
    "import os\n",
    "from sklearn.model_selection import train_test_split\n",
    "from PIL import Image\n",
    "import numpy as np\n",
    "import random"
   ]
  },
  {
   "cell_type": "code",
   "execution_count": 3,
   "metadata": {},
   "outputs": [
    {
     "name": "stdout",
     "output_type": "stream",
     "text": [
      "Processing dataset and saving to Torch tensor format...\n",
      "Dataset saved in Torch tensor format.\n"
     ]
    }
   ],
   "source": [
    "# Define dataset paths\n",
    "data_dir = \"./animals10\"\n",
    "torch_dataset_path = \"./animals10DatasetNoNormalize.pt\"\n",
    "\n",
    "# Define class names\n",
    "class_names = [\"cane\", \"cavallo\", \"elefante\", \"farfalla\", \"gallina\", \"gatto\", \"mucca\", \"pecora\", \"ragno\", \"scoiattolo\"]\n",
    "class_to_idx = {class_name: idx for idx, class_name in enumerate(class_names)}\n",
    "\n",
    "# Define transforms for data preprocessing\n",
    "transform = transforms.Compose([\n",
    "    transforms.Resize((224, 224)),\n",
    "    transforms.ToTensor(),\n",
    "    # transforms.Normalize([0.5, 0.5, 0.5], [0.5, 0.5, 0.5])\n",
    "])\n",
    "\n",
    "# Process and store images in Torch tensor format\n",
    "if not os.path.exists(torch_dataset_path):\n",
    "    print(\"Processing dataset and saving to Torch tensor format...\")\n",
    "    images, labels = [], []\n",
    "    \n",
    "    for class_name in class_names:\n",
    "        class_path = os.path.join(data_dir, class_name)\n",
    "        if os.path.isdir(class_path):\n",
    "            for img_name in os.listdir(class_path):\n",
    "                if img_name.lower().endswith(('png', 'jpg', 'jpeg')):\n",
    "                    img_path = os.path.join(class_path, img_name)\n",
    "                    image = Image.open(img_path).convert(\"RGB\")\n",
    "                    image = transform(image)\n",
    "                    images.append(image)\n",
    "                    labels.append(class_to_idx[class_name])\n",
    "    \n",
    "    images = torch.stack(images)\n",
    "    labels = torch.tensor(labels, dtype=torch.long)\n",
    "    \n",
    "    # Save to Torch tensor format\n",
    "    torch.save({\"images\": images, \"labels\": labels}, torch_dataset_path)\n",
    "    print(\"Dataset saved in Torch tensor format.\")\n"
   ]
  },
  {
   "cell_type": "markdown",
   "metadata": {},
   "source": [
    "# Animals-90 Dataset\n",
    "Download the raw data from: iamsouravbanerjee/animal-image-dataset-90-different-animals\n",
    "Then use function below to convert .pt for faster process"
   ]
  },
  {
   "cell_type": "code",
   "execution_count": 2,
   "metadata": {},
   "outputs": [
    {
     "name": "stderr",
     "output_type": "stream",
     "text": [
      "c:\\Users\\Hizan\\softwares\\anaconda3\\envs\\ece1508\\lib\\site-packages\\tqdm\\auto.py:21: TqdmWarning: IProgress not found. Please update jupyter and ipywidgets. See https://ipywidgets.readthedocs.io/en/stable/user_install.html\n",
      "  from .autonotebook import tqdm as notebook_tqdm\n"
     ]
    },
    {
     "name": "stdout",
     "output_type": "stream",
     "text": [
      "Path to test files: C:\\Users\\Hizan\\.cache\\kagglehub\\datasets\\naykrit\\animal-classification\\versions\\1/test_set\n",
      "Path to train files: C:\\Users\\Hizan\\.cache\\kagglehub\\datasets\\iamsouravbanerjee\\animal-image-dataset-90-different-animals\\versions\\5/animals/animals\n"
     ]
    }
   ],
   "source": [
    "\n",
    "import kagglehub\n",
    "\n",
    "# Download latest version\n",
    "test_path = kagglehub.dataset_download(\"naykrit/animal-classification\")\n",
    "train_path = kagglehub.dataset_download(\"iamsouravbanerjee/animal-image-dataset-90-different-animals\")\n",
    "train_dir = train_path + '/animals/animals'\n",
    "test_dir = test_path + '/test_set'\n",
    "print(\"Path to test files:\", test_dir)\n",
    "print(\"Path to train files:\", train_dir)"
   ]
  },
  {
   "cell_type": "code",
   "execution_count": 3,
   "metadata": {},
   "outputs": [],
   "source": [
    "def load_images_from_directory(directory, sel, save_path, image_size=(150, 150)):\n",
    "    images = []\n",
    "    labels = []\n",
    "    transform = transforms.Compose([\n",
    "      transforms.Resize((224, 224)),\n",
    "      transforms.ToTensor(),\n",
    "      transforms.Normalize(mean=[0.485, 0.456, 0.406],  # ImageNet means\n",
    "                          std=[0.229, 0.224, 0.225])   # ImageNet stds\n",
    "    ])\n",
    "\n",
    "    for class_name in sel:\n",
    "        print(f\"Processing class: {class_name}\")\n",
    "        class_path = os.path.join(directory, class_name)\n",
    "        print(f\"Class path: {class_path}\")\n",
    "        # Check if the class directory exists\n",
    "        \n",
    "        if os.path.isdir(class_path):\n",
    "            # Get all image files in the directory\n",
    "            for img_name in os.listdir(class_path):\n",
    "                img_path = os.path.join(class_path, img_name)\n",
    "                if img_path.lower().endswith(('.png', '.jpg', '.jpeg')):\n",
    "                    img = Image.open(img_path).convert(\"RGB\")\n",
    "                    img_tensor = transform(img)\n",
    "                    images.append(img_tensor)\n",
    "                    labels.append(sel.index(class_name))\n",
    "\n",
    "   \n",
    "    images = torch.stack(images)\n",
    "    labels = torch.tensor(labels, dtype=torch.long)\n",
    "\n",
    "    # Save to Torch tensor format\n",
    "    torch.save({\"images\": images, \"labels\": labels}, save_path)\n",
    "    print(\"Dataset saved in Torch tensor format.\")"
   ]
  },
  {
   "cell_type": "code",
   "execution_count": 4,
   "metadata": {},
   "outputs": [],
   "source": [
    "def load_images_from_directory_with_augmentation(directory, sel, train_save_path, val_save_path, image_size=(224, 224)):\n",
    "    image_label_pairs = []\n",
    "\n",
    "    # Define transforms\n",
    "    train_transform = transforms.Compose([\n",
    "        transforms.Resize(image_size),\n",
    "        transforms.RandomHorizontalFlip(),\n",
    "        transforms.ColorJitter(brightness=0.4, contrast=0.4, saturation=0.4),\n",
    "        transforms.RandomGrayscale(p=0.1),\n",
    "        transforms.ToTensor(),\n",
    "        transforms.Normalize(mean=[0.5]*3, std=[0.5]*3)\n",
    "    ])\n",
    "\n",
    "    val_transform = transforms.Compose([\n",
    "        transforms.Resize(image_size),\n",
    "        transforms.CenterCrop(image_size),\n",
    "        transforms.ToTensor(),\n",
    "        transforms.Normalize(mean=[0.5]*3, std=[0.5]*3)\n",
    "    ])\n",
    "\n",
    "    # Load image paths and labels\n",
    "    for class_name in sel:\n",
    "        class_path = os.path.join(directory, class_name)\n",
    "        if os.path.isdir(class_path):\n",
    "            for img_name in os.listdir(class_path):\n",
    "                img_path = os.path.join(class_path, img_name)\n",
    "                if img_path.lower().endswith(('.png', '.jpg', '.jpeg')):\n",
    "                    label = sel.index(class_name)\n",
    "                    image_label_pairs.append((img_path, label))\n",
    "\n",
    "    # Shuffle and split\n",
    "    random.shuffle(image_label_pairs)\n",
    "    total = len(image_label_pairs)\n",
    "    val_size = int(total * 0.2)\n",
    "\n",
    "    val_data = image_label_pairs[:val_size]\n",
    "    train_data = image_label_pairs[val_size:]\n",
    "\n",
    "    # Apply transforms and convert to tensors\n",
    "    def process_data(data_list, transform):\n",
    "        images = []\n",
    "        labels = []\n",
    "        for img_path, label in data_list:\n",
    "            img = Image.open(img_path).convert(\"RGB\")\n",
    "            img_tensor = transform(img)\n",
    "            images.append(img_tensor)\n",
    "            labels.append(label)\n",
    "        return torch.stack(images), torch.tensor(labels, dtype=torch.long)\n",
    "\n",
    "    train_images, train_labels = process_data(train_data, train_transform)\n",
    "    val_images, val_labels = process_data(val_data, val_transform)\n",
    "\n",
    "    # Save\n",
    "    torch.save({\"images\": train_images, \"labels\": train_labels}, train_save_path)\n",
    "    torch.save({\"images\": val_images, \"labels\": val_labels}, val_save_path)\n",
    "\n",
    "    print(f\"Saved {len(train_images)} training samples to {train_save_path}\")\n",
    "    print(f\"Saved {len(val_images)} validation samples to {val_save_path}\")"
   ]
  },
  {
   "cell_type": "code",
   "execution_count": null,
   "metadata": {},
   "outputs": [],
   "source": [
    "# Define dataset path to save\n",
    "torch_train_path = \"./animals90TrainDatasetArgumentation.pt\"\n",
    "torch_test_path = \"./animals90TestDatasetArgumentation.pt\"\n",
    "torch_val_path = \"./animals90ValDatasetArgumentation.pt\"\n",
    "\n",
    "class_names = [\n",
    "    \"antelope\", \"badger\", \"bat\", \"bear\", \"bee\", \"beetle\", \"bison\", \"boar\", \"butterfly\",\n",
    "    \"cat\", \"caterpillar\", \"chimpanzee\", \"cockroach\", \"cow\", \"coyote\", \"crab\", \"crow\",\n",
    "    \"deer\", \"dog\", \"dolphin\", \"donkey\", \"dragonfly\", \"duck\", \"eagle\", \"elephant\",\n",
    "    \"flamingo\", \"fly\", \"fox\", \"goat\", \"goldfish\", \"goose\", \"gorilla\", \"grasshopper\",\n",
    "    \"hamster\", \"hare\", \"hedgehog\", \"hippopotamus\", \"hornbill\", \"horse\", \"hummingbird\",\n",
    "    \"hyena\", \"jellyfish\", \"kangaroo\", \"koala\", \"ladybugs\", \"leopard\", \"lion\", \"lizard\",\n",
    "    \"lobster\", \"mosquito\", \"moth\", \"mouse\", \"octopus\", \"okapi\", \"orangutan\", \"otter\",\n",
    "    \"owl\", \"ox\", \"oyster\", \"panda\", \"parrot\", \"pelecaniformes\", \"penguin\", \"pig\",\n",
    "    \"pigeon\", \"porcupine\", \"possum\", \"raccoon\", \"rat\", \"reindeer\", \"rhinoceros\",\n",
    "    \"sandpiper\", \"seahorse\", \"seal\", \"shark\", \"sheep\", \"snake\", \"sparrow\", \"squid\",\n",
    "    \"squirrel\", \"starfish\", \"swan\", \"tiger\", \"turkey\", \"turtle\", \"whale\", \"wolf\",\n",
    "    \"wombat\", \"woodpecker\", \"zebra\"\n",
    "]\n",
    "\n",
    "load_images_from_directory_with_augmentation(train_dir, class_names, torch_train_path, torch_val_path)\n",
    "load_images_from_directory(test_dir, class_names, torch_test_path)"
   ]
  }
 ],
 "metadata": {
  "kernelspec": {
   "display_name": "ece1508",
   "language": "python",
   "name": "python3"
  },
  "language_info": {
   "codemirror_mode": {
    "name": "ipython",
    "version": 3
   },
   "file_extension": ".py",
   "mimetype": "text/x-python",
   "name": "python",
   "nbconvert_exporter": "python",
   "pygments_lexer": "ipython3",
   "version": "3.10.16"
  }
 },
 "nbformat": 4,
 "nbformat_minor": 2
}
