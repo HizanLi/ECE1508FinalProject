{
 "cells": [
  {
   "cell_type": "code",
   "execution_count": 1,
   "metadata": {},
   "outputs": [],
   "source": [
    "import torch\n",
    "import torch.nn as nn\n",
    "import torch.optim as optim\n",
    "import torchvision.transforms as transforms\n",
    "import torchvision.datasets as datasets\n",
    "from torch.utils.data import DataLoader, TensorDataset\n",
    "from torchvision.models import resnet50, ResNet50_Weights\n",
    "import os\n",
    "from sklearn.model_selection import train_test_split\n",
    "from PIL import Image\n",
    "import numpy as np\n",
    "import matplotlib.pyplot as plt\n"
   ]
  },
  {
   "cell_type": "code",
   "execution_count": 4,
   "metadata": {},
   "outputs": [
    {
     "name": "stdout",
     "output_type": "stream",
     "text": [
      "Runing on cpu\n",
      "Loading dataset from Torch tensor file...\n",
      "Dataset loaded successfully.\n",
      "Test dataset loaded successfully.\n",
      "Train samples: 4320, Val samples: 1080, Test samples: 100\n"
     ]
    }
   ],
   "source": [
    "# Set device\n",
    "device = torch.device(\"cuda\" if torch.cuda.is_available() else \"cpu\")\n",
    "\n",
    "print(f\"Runing on {str(device)}\")\n",
    "\n",
    "# Define dataset paths\n",
    "torch_train_path = \"./animals90TrainDataset.pt\"\n",
    "torch_test_path = \"./animals90TestDataset.pt\"\n",
    "\n",
    "# Define class names\n",
    "class_names =  [\n",
    "    \"antelope\", \"badger\", \"bat\", \"bear\", \"bee\", \"beetle\", \"bison\", \"boar\", \"butterfly\",\n",
    "    \"cat\", \"caterpillar\", \"chimpanzee\", \"cockroach\", \"cow\", \"coyote\", \"crab\", \"crow\",\n",
    "    \"deer\", \"dog\", \"dolphin\", \"donkey\", \"dragonfly\", \"duck\", \"eagle\", \"elephant\",\n",
    "    \"flamingo\", \"fly\", \"fox\", \"goat\", \"goldfish\", \"goose\", \"gorilla\", \"grasshopper\",\n",
    "    \"hamster\", \"hare\", \"hedgehog\", \"hippopotamus\", \"hornbill\", \"horse\", \"hummingbird\",\n",
    "    \"hyena\", \"jellyfish\", \"kangaroo\", \"koala\", \"ladybugs\", \"leopard\", \"lion\", \"lizard\",\n",
    "    \"lobster\", \"mosquito\", \"moth\", \"mouse\", \"octopus\", \"okapi\", \"orangutan\", \"otter\",\n",
    "    \"owl\", \"ox\", \"oyster\", \"panda\", \"parrot\", \"pelecaniformes\", \"penguin\", \"pig\",\n",
    "    \"pigeon\", \"porcupine\", \"possum\", \"raccoon\", \"rat\", \"reindeer\", \"rhinoceros\",\n",
    "    \"sandpiper\", \"seahorse\", \"seal\", \"shark\", \"sheep\", \"snake\", \"sparrow\", \"squid\",\n",
    "    \"squirrel\", \"starfish\", \"swan\", \"tiger\", \"turkey\", \"turtle\", \"whale\", \"wolf\",\n",
    "    \"wombat\", \"woodpecker\", \"zebra\"\n",
    "]\n",
    "class_to_idx = {class_name: idx for idx, class_name in enumerate(class_names)}\n",
    "num_classes = len(class_names)\n",
    "\n",
    "# Load dataset from Torch tensor file\n",
    "print(\"Loading dataset from Torch tensor file...\")\n",
    "train_data = torch.load(torch_train_path)\n",
    "print(\"Dataset loaded successfully.\")\n",
    "test_data = torch.load(torch_test_path)\n",
    "print(\"Test dataset loaded successfully.\")\n",
    "train_images, train_labels = train_data[\"images\"], train_data[\"labels\"]\n",
    "test_images, test_labels = test_data[\"images\"], test_data[\"labels\"]\n",
    "\n",
    "train_dataset = TensorDataset(train_images, train_labels)\n",
    "test_dataset = TensorDataset(test_images, test_labels)\n",
    "train_size = int(0.8 * len(train_dataset))\n",
    "val_size = int(0.2 * len(train_dataset))\n",
    "train_dataset, val_dataset = torch.utils.data.random_split(train_dataset, [train_size, val_size])\n",
    "\n",
    "print(f\"Train samples: {len(train_dataset)}, Val samples: {len(val_dataset)}, Test samples: {len(test_dataset)}\")\n"
   ]
  },
  {
   "cell_type": "code",
   "execution_count": 5,
   "metadata": {},
   "outputs": [],
   "source": [
    "transform = transforms.Compose([\n",
    "    # If your images are not already 224×224, un-comment the following line:\n",
    "    # transforms.Resize((224, 224)),\n",
    "    transforms.Normalize(mean=(0.485, 0.456, 0.406),  # ImageNet mean\n",
    "                         std=(0.229, 0.224, 0.225))   # ImageNet std\n",
    "])\n",
    "\n",
    "class NormalizedDataset(torch.utils.data.Dataset):\n",
    "    \"\"\"Wraps a dataset of (image_tensor, label) to apply transforms.\"\"\"\n",
    "    def __init__(self, wrapped_dataset, transform=None):\n",
    "        self.wrapped_dataset = wrapped_dataset\n",
    "        self.transform = transform\n",
    "        \n",
    "    def __getitem__(self, idx):\n",
    "        x, y = self.wrapped_dataset[idx]\n",
    "        # x is shape (3, H, W)\n",
    "        if self.transform is not None:\n",
    "            x = self.transform(x)\n",
    "        return x, y\n",
    "        \n",
    "    def __len__(self):\n",
    "        return len(self.wrapped_dataset)\n",
    "\n",
    "train_dataset = NormalizedDataset(train_dataset, transform=transform)\n",
    "val_dataset   = NormalizedDataset(val_dataset, transform=transform)\n",
    "test_dataset  = NormalizedDataset(test_dataset, transform=transform)"
   ]
  },
  {
   "cell_type": "code",
   "execution_count": 6,
   "metadata": {},
   "outputs": [],
   "source": [
    "# Create DataLoaders\n",
    "batch_size = 32\n",
    "train_loader = DataLoader(train_dataset, batch_size=batch_size, shuffle=True)\n",
    "val_loader   = DataLoader(val_dataset, batch_size=batch_size, shuffle=False)\n",
    "test_loader  = DataLoader(test_dataset, batch_size=batch_size, shuffle=False)\n"
   ]
  },
  {
   "cell_type": "code",
   "execution_count": 7,
   "metadata": {},
   "outputs": [],
   "source": [
    "class SimpleCNN(nn.Module):\n",
    "    def __init__(self, num_classes=10):\n",
    "        super(SimpleCNN, self).__init__()\n",
    "        \n",
    "        # Convolutional feature extractor\n",
    "        self.features = nn.Sequential(\n",
    "            nn.Conv2d(in_channels=3, out_channels=32, kernel_size=3, stride=1, padding=1),\n",
    "            nn.ReLU(inplace=True),\n",
    "            nn.MaxPool2d(kernel_size=2),  # (3, 224, 224) -> (32, 112, 112)\n",
    "            \n",
    "            nn.Conv2d(in_channels=32, out_channels=64, kernel_size=3, stride=1, padding=1),\n",
    "            nn.ReLU(inplace=True),\n",
    "            nn.MaxPool2d(kernel_size=2),  # (32, 112, 112) -> (64, 56, 56)\n",
    "            \n",
    "            nn.Conv2d(in_channels=64, out_channels=128, kernel_size=3, stride=1, padding=1),\n",
    "            nn.ReLU(inplace=True),\n",
    "            nn.MaxPool2d(kernel_size=2),  # (64, 56, 56) -> (128, 28, 28)\n",
    "        )\n",
    "\n",
    "        self.classifier = nn.Sequential(\n",
    "            nn.Linear(128 * 28 * 28, 256),\n",
    "            nn.ReLU(inplace=True),\n",
    "            nn.Dropout(0.5),\n",
    "            nn.Linear(256, num_classes),\n",
    "        )\n",
    "    \n",
    "    def forward(self, x):\n",
    "        x = self.features(x)               # extract features through conv layers\n",
    "        x = x.view(x.size(0), -1)         # flatten for the classifier\n",
    "        x = self.classifier(x)            # final classification\n",
    "        return x"
   ]
  },
  {
   "cell_type": "code",
   "execution_count": 13,
   "metadata": {},
   "outputs": [],
   "source": [
    "\n",
    "model = SimpleCNN(num_classes=num_classes)\n",
    "model.to(device)\n",
    "\n",
    "criterion = nn.CrossEntropyLoss()\n",
    "optimizer = optim.Adam(model.parameters(), lr=1e-4)  # Adjust as needed\n",
    "\n",
    "epochs = 100"
   ]
  },
  {
   "cell_type": "code",
   "execution_count": 9,
   "metadata": {},
   "outputs": [],
   "source": [
    "def plot_loss_and_accuracy(train_losses, val_losses, train_accs, val_accs):\n",
    "    \"\"\"\n",
    "    Plots the training/validation loss and accuracy curves in separate charts.\n",
    "    \"\"\"\n",
    "    # Plot loss\n",
    "    plt.figure()\n",
    "    plt.plot(train_losses, label='Train Loss')\n",
    "    plt.plot(val_losses, label='Val Loss')\n",
    "    plt.xlabel('Epoch')\n",
    "    plt.ylabel('Loss')\n",
    "    plt.title('Loss per Epoch')\n",
    "    plt.legend()\n",
    "    plt.show()\n",
    "\n",
    "    # Plot accuracy\n",
    "    plt.figure()\n",
    "    plt.plot(train_accs, label='Train Acc')\n",
    "    plt.plot(val_accs, label='Val Acc')\n",
    "    plt.xlabel('Epoch')\n",
    "    plt.ylabel('Accuracy')\n",
    "    plt.title('Accuracy per Epoch')\n",
    "    plt.legend()\n",
    "    plt.show()"
   ]
  },
  {
   "cell_type": "code",
   "execution_count": null,
   "metadata": {},
   "outputs": [
    {
     "name": "stdout",
     "output_type": "stream",
     "text": [
      "Epoch [1/100] - Train Loss: 4.5062, Train Acc: 0.0160\n",
      "Val Loss: 4.3771, Val Acc: 0.0333\n",
      "\n",
      "Epoch [2/100] - Train Loss: 4.3214, Train Acc: 0.0431\n",
      "Val Loss: 4.2277, Val Acc: 0.0722\n",
      "\n",
      "Epoch [3/100] - Train Loss: 4.0772, Train Acc: 0.0819\n",
      "Val Loss: 4.0190, Val Acc: 0.1185\n",
      "\n",
      "Epoch [4/100] - Train Loss: 3.6498, Train Acc: 0.1595\n",
      "Val Loss: 3.7459, Val Acc: 0.1861\n",
      "\n",
      "Epoch [5/100] - Train Loss: 3.0790, Train Acc: 0.2701\n",
      "Val Loss: 3.4847, Val Acc: 0.2611\n",
      "\n",
      "Epoch [6/100] - Train Loss: 2.4360, Train Acc: 0.4012\n",
      "Val Loss: 3.2900, Val Acc: 0.2981\n",
      "\n"
     ]
    }
   ],
   "source": [
    "train_losses = []\n",
    "train_accs   = []\n",
    "val_losses   = []\n",
    "val_accs     = []\n",
    "\n",
    "for epoch in range(epochs):\n",
    "    # --- Training ---\n",
    "    model.train()\n",
    "    running_loss = 0.0\n",
    "    correct = 0\n",
    "    total = 0\n",
    "    \n",
    "    for images_batch, labels_batch in train_loader:\n",
    "        images_batch = images_batch.to(device)\n",
    "        labels_batch = labels_batch.to(device)\n",
    "        \n",
    "        optimizer.zero_grad()\n",
    "        \n",
    "        outputs = model(images_batch)\n",
    "        loss = criterion(outputs, labels_batch)\n",
    "        loss.backward()\n",
    "        optimizer.step()\n",
    "        \n",
    "        # Track training loss\n",
    "        running_loss += loss.item() * images_batch.size(0)\n",
    "        \n",
    "        # Compute training accuracy\n",
    "        _, predicted = outputs.max(1)\n",
    "        correct += predicted.eq(labels_batch).sum().item()\n",
    "        total += labels_batch.size(0)\n",
    "    \n",
    "    epoch_loss = running_loss / len(train_loader.dataset)\n",
    "    epoch_acc = correct / total\n",
    "\n",
    "    train_losses.append(epoch_loss)\n",
    "    train_accs.append(epoch_acc)\n",
    "    \n",
    "    print(f\"Epoch [{epoch+1}/{epochs}] - \"\n",
    "          f\"Train Loss: {epoch_loss:.4f}, Train Acc: {epoch_acc:.4f}\")\n",
    "\n",
    "    # --- Validation ---\n",
    "    model.eval()\n",
    "    val_running_loss = 0.0\n",
    "    val_correct = 0\n",
    "    val_total = 0\n",
    "    \n",
    "    with torch.no_grad():\n",
    "        for images_batch, labels_batch in val_loader:\n",
    "            images_batch = images_batch.to(device)\n",
    "            labels_batch = labels_batch.to(device)\n",
    "\n",
    "            outputs = model(images_batch)\n",
    "            loss = criterion(outputs, labels_batch)\n",
    "            \n",
    "            # Track validation loss\n",
    "            val_running_loss += loss.item() * images_batch.size(0)\n",
    "            # Compute validation accuracy\n",
    "            _, predicted = outputs.max(1)\n",
    "            val_correct += predicted.eq(labels_batch).sum().item()\n",
    "            val_total += labels_batch.size(0)\n",
    "    \n",
    "    val_epoch_loss = val_running_loss / len(val_loader.dataset)\n",
    "    val_epoch_acc = val_correct / val_total\n",
    "    \n",
    "    val_losses.append(val_epoch_loss)\n",
    "    val_accs.append(val_epoch_acc)\n",
    "    \n",
    "    print(f\"Val Loss: {val_epoch_loss:.4f}, Val Acc: {val_epoch_acc:.4f}\\n\")\n"
   ]
  },
  {
   "cell_type": "code",
   "execution_count": 11,
   "metadata": {},
   "outputs": [
    {
     "data": {
      "image/png": "[encoded data removed]",
      "text/plain": [
       "<Figure size 640x480 with 1 Axes>"
      ]
     },
     "metadata": {},
     "output_type": "display_data"
    },
    {
     "data": {
      "image/png": "[encoded data removed]",
      "text/plain": [
       "<Figure size 640x480 with 1 Axes>"
      ]
     },
     "metadata": {},
     "output_type": "display_data"
    }
   ],
   "source": [
    "# Plot Loss and Accuracy\n",
    "plot_loss_and_accuracy(train_losses, val_losses, train_accs, val_accs)\n"
   ]
  },
  {
   "cell_type": "code",
   "execution_count": 12,
   "metadata": {},
   "outputs": [
    {
     "name": "stdout",
     "output_type": "stream",
     "text": [
      "Test Loss: 4.6424, Test Acc: 0.0700\n"
     ]
    }
   ],
   "source": [
    "# Testing\n",
    "model.eval()\n",
    "test_loss = 0.0\n",
    "test_correct = 0\n",
    "test_total = 0\n",
    "\n",
    "with torch.no_grad():\n",
    "    for images_batch, labels_batch in test_loader:\n",
    "        images_batch = images_batch.to(device)\n",
    "        labels_batch = labels_batch.to(device)\n",
    "        \n",
    "        outputs = model(images_batch)\n",
    "        loss = criterion(outputs, labels_batch)\n",
    "        \n",
    "        test_loss += loss.item() * images_batch.size(0)\n",
    "        _, predicted = outputs.max(1)\n",
    "        test_correct += predicted.eq(labels_batch).sum().item()\n",
    "        test_total += labels_batch.size(0)\n",
    "\n",
    "test_loss /= len(test_loader.dataset)\n",
    "test_acc = test_correct / test_total\n",
    "print(f\"Test Loss: {test_loss:.4f}, Test Acc: {test_acc:.4f}\")"
   ]
  }
 ],
 "metadata": {
  "kernelspec": {
   "display_name": "Python 3",
   "language": "python",
   "name": "python3"
  },
  "language_info": {
   "codemirror_mode": {
    "name": "ipython",
    "version": 3
   },
   "file_extension": ".py",
   "mimetype": "text/x-python",
   "name": "python",
   "nbconvert_exporter": "python",
   "pygments_lexer": "ipython3",
   "version": "3.9.6"
  }
 },
 "nbformat": 4,
 "nbformat_minor": 2
}
